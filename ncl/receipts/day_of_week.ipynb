{
 "cells": [
  {
   "cell_type": "markdown",
   "id": "aaff9d45c31bb14f",
   "metadata": {},
   "source": [
    "# day_of_week"
   ]
  },
  {
   "cell_type": "markdown",
   "id": "da15bdd411cb2d62",
   "metadata": {},
   "source": [
    "```{warning} This is not meant to be a standalone notebook.\n",
    "This notebook is part of the process we have for adding entries to the NCL Index and is not meant to be used as tutorial or example code.\n",
    "```"
   ]
  },
  {
   "cell_type": "markdown",
   "id": "4db398c6f0f22ab7",
   "metadata": {},
   "source": [
    "## Functions covered\n",
    "[day_of_week](https://www.ncl.ucar.edu/Document/Functions/Built-in/day_of_week.shtml)"
   ]
  },
  {
   "cell_type": "markdown",
   "id": "7abc45739184bc47",
   "metadata": {},
   "source": [
    "## NCL code"
   ]
  },
  {
   "cell_type": "markdown",
   "id": "570496d7",
   "metadata": {},
   "source": [
    "### *Notes not to be kept:\n",
    "years < 0, NCL = -9999\n",
    "\n",
    "0-1-1 to 0-2-29, NCL = Py+1\n",
    "\n",
    "0-3-1 to 10000-1-1, NCL = Py\n",
    "\n",
    "Years > 10000, NCL = confusing mess"
   ]
  },
  {
   "cell_type": "markdown",
   "id": "cd244e48b300644b",
   "metadata": {},
   "source": [
    "```{literalinclude} ../ncl_raw/cal_dow.ncl\n",
    "```"
   ]
  },
  {
   "cell_type": "code",
   "execution_count": 22,
   "id": "3979bdf20e5c7601",
   "metadata": {
    "ExecuteTime": {
     "end_time": "2024-06-03T03:56:38.568301Z",
     "start_time": "2024-06-03T03:56:38.564570Z"
    }
   },
   "outputs": [],
   "source": [
    "# From the above code snippet\n",
    "ncl_year = [-1, 0, 0, 0, 2000, 10001]\n",
    "ncl_month = [1, 1, 2, 3, 1, 1]\n",
    "ncl_day = [1, 1, 1, 1, 1, 1]\n",
    "\n",
    "# list of dates to results\n",
    "ncl_results = [-9999, 0, 3, 3, 6, -6]"
   ]
  },
  {
   "cell_type": "markdown",
   "id": "f758668e430cb2a8",
   "metadata": {},
   "source": [
    "## Python Functionality\n",
    "<!---\n",
    "Show the python code that replicates the NCL functionality. Don't worry about providing narrative, just provide enough explanation that somebody with the knowledge level of another developer could follow along.\n",
    "-->"
   ]
  },
  {
   "cell_type": "code",
   "execution_count": 26,
   "id": "a9a83f5db82da900",
   "metadata": {
    "ExecuteTime": {
     "end_time": "2024-06-03T03:56:38.649959Z",
     "start_time": "2024-06-03T03:56:38.569341Z"
    }
   },
   "outputs": [
    {
     "name": "stdout",
     "output_type": "stream",
     "text": [
      "[5, 6, 2, 3, 6, 1]\n"
     ]
    }
   ],
   "source": [
    "import cftime\n",
    "\n",
    "dow = [\n",
    "    int(\n",
    "        cftime.datetime(\n",
    "            year, month, day, calendar='proleptic_gregorian', has_year_zero=True\n",
    "        ).strftime(\"%w\")\n",
    "    )\n",
    "    for year, month, day in zip(ncl_year, ncl_month, ncl_day)\n",
    "]\n",
    "\n",
    "print(dow)"
   ]
  },
  {
   "cell_type": "markdown",
   "id": "aebb4a41dcf58234",
   "metadata": {},
   "source": [
    "## Comparison"
   ]
  },
  {
   "cell_type": "code",
   "execution_count": 24,
   "id": "162fdb4c1958a96",
   "metadata": {
    "ExecuteTime": {
     "end_time": "2024-06-03T03:56:38.654714Z",
     "start_time": "2024-06-03T03:56:38.652448Z"
    }
   },
   "outputs": [],
   "source": [
    "# for c in ncl_results.keys() & results.keys():\n",
    "#     print(f\"{c}: \\n\\tpython:\\t{results[c]}\\n\\tncl:\\t{ncl_results[c]}\\n\")\n",
    "\n",
    "# for c in ncl_results.keys() - results.keys():\n",
    "#     print(f\"{c}: \\n\\tncl:\\t{ncl_results[c]}\\n\")\n",
    "\n",
    "# for c in results.keys() - ncl_results.keys():\n",
    "#     print(f\"{c}: \\n\\tpython:\\t{results[c]}\\n\")"
   ]
  },
  {
   "cell_type": "markdown",
   "id": "676325d2d5c7a5ed",
   "metadata": {},
   "source": [
    "### Differences"
   ]
  },
  {
   "cell_type": "code",
   "execution_count": 25,
   "id": "bd870e707bea6aac",
   "metadata": {
    "ExecuteTime": {
     "end_time": "2024-06-03T03:56:38.658193Z",
     "start_time": "2024-06-03T03:56:38.656119Z"
    }
   },
   "outputs": [],
   "source": [
    "# for c in ncl_results.keys() | results.keys():\n",
    "#     if c in ncl_results.keys() & results.keys() and results[c] != ncl_results[c]:\n",
    "#         print(f\"{c}: {results[c]} != {ncl_results[c]}\")\n",
    "#     elif c in ncl_results.keys() - results.keys():\n",
    "#         print(f\"{c}: calendar not available in python\")\n",
    "#     elif c in results.keys() - ncl_results.keys():\n",
    "#         print(f\"{c}: calendar not available in ncl\")"
   ]
  },
  {
   "cell_type": "code",
   "execution_count": null,
   "id": "da84219ef8b94a88",
   "metadata": {
    "ExecuteTime": {
     "end_time": "2024-06-03T03:56:38.660044Z",
     "start_time": "2024-06-03T03:56:38.658914Z"
    }
   },
   "outputs": [],
   "source": []
  }
 ],
 "metadata": {
  "kernelspec": {
   "display_name": "Python 3",
   "language": "python",
   "name": "python3"
  },
  "language_info": {
   "codemirror_mode": {
    "name": "ipython",
    "version": 3
   },
   "file_extension": ".py",
   "mimetype": "text/x-python",
   "name": "python",
   "nbconvert_exporter": "python",
   "pygments_lexer": "ipython3",
   "version": "3.12.3"
  }
 },
 "nbformat": 4,
 "nbformat_minor": 5
}
